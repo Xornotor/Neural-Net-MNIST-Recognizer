{
 "cells": [
  {
   "cell_type": "markdown",
   "metadata": {},
   "source": [
    "# Neural Network for MNIST database recognizing\n",
    "\n",
    "This is a Neural Network developed without Machine Learning frameworks, using `numpy` and `matplotlib`, only for learning purposes. The objective of this project is practice Neural Networks Design principles and enhance knowledges on Machine Learning and Deep Learning.\n"
   ]
  },
  {
   "cell_type": "markdown",
   "metadata": {},
   "source": [
    "## 1 - Library imports\n",
    "\n",
    "Using `numpy`, `matplotlib`, `mnist` (Anaconda version), `os` and `enum`."
   ]
  },
  {
   "cell_type": "code",
   "execution_count": 1143,
   "metadata": {},
   "outputs": [],
   "source": [
    "import numpy as np\n",
    "np.seterr(all='warn')\n",
    "\n",
    "import mnist\n",
    "import matplotlib.pyplot as plt\n",
    "import os\n",
    "from enum import Enum, unique"
   ]
  },
  {
   "cell_type": "markdown",
   "metadata": {},
   "source": [
    "## 2 - MNIST Datasets download\n",
    "\n",
    "Datasets download made with `mnist` library."
   ]
  },
  {
   "cell_type": "code",
   "execution_count": 1144,
   "metadata": {},
   "outputs": [],
   "source": [
    "if(not os.path.isdir(\"./datasets/\")):\n",
    "    os.mkdir(\"./datasets\")\n",
    "if(not os.path.isfile(\"./datasets/train-images-idx3-ubyte.gz\")):\n",
    "    mnist.download_file(\"train-images-idx3-ubyte.gz\", \"./datasets\")\n",
    "if(not os.path.isfile(\"./datasets/train-labels-idx1-ubyte.gz\")):\n",
    "    mnist.download_file(\"train-labels-idx1-ubyte.gz\", \"./datasets\")\n",
    "if(not os.path.isfile(\"./datasets/t10k-images-idx3-ubyte.gz\")):\n",
    "    mnist.download_file(\"t10k-images-idx3-ubyte.gz\", \"./datasets\")\n",
    "if(not os.path.isfile(\"./datasets/t10k-labels-idx1-ubyte.gz\")):\n",
    "    mnist.download_file(\"t10k-labels-idx1-ubyte.gz\", \"./datasets\")"
   ]
  },
  {
   "cell_type": "markdown",
   "metadata": {},
   "source": [
    "## 3 - MNIST Datasets Load\n",
    "\n",
    "Load and reshaping of the datasets. Labels converted to one-hot encoding."
   ]
  },
  {
   "cell_type": "code",
   "execution_count": 1145,
   "metadata": {},
   "outputs": [],
   "source": [
    "train_images_raw = mnist.train_images()\n",
    "train_labels_raw = mnist.train_labels()\n",
    "test_images_raw = mnist.test_images()\n",
    "test_labels_raw = mnist.test_labels()\n",
    "\n",
    "train_images = np.transpose(train_images_raw.reshape(train_images_raw.shape[0], train_images_raw.shape[1]*train_images_raw.shape[2]))\n",
    "\n",
    "train_labels = np.zeros((train_labels_raw.shape[0], train_labels_raw.max()+1))\n",
    "train_labels[np.arange(train_labels_raw.shape[0]), train_labels_raw] = 1\n",
    "train_labels = np.transpose(train_labels)\n",
    "\n",
    "test_images = np.transpose(test_images_raw.reshape(test_images_raw.shape[0], test_images_raw.shape[1]*test_images_raw.shape[2]))\n",
    "\n",
    "test_labels = np.zeros((test_labels_raw.shape[0], test_labels_raw.max()+1))\n",
    "test_labels[np.arange(test_labels_raw.shape[0]), test_labels_raw] = 1\n",
    "test_labels = np.transpose(test_labels)"
   ]
  },
  {
   "cell_type": "markdown",
   "metadata": {},
   "source": [
    "## 4 - Activation functions enum\n",
    "\n",
    "Activation enum. It's used to select whether activation function will be applied on each layer."
   ]
  },
  {
   "cell_type": "code",
   "execution_count": 1146,
   "metadata": {},
   "outputs": [],
   "source": [
    "@unique\n",
    "class Activation(Enum):\n",
    "    SIGMOID = 1\n",
    "    TANH = 2\n",
    "    RELU = 3\n",
    "    LEAKY_RELU = 4"
   ]
  },
  {
   "cell_type": "markdown",
   "metadata": {},
   "source": [
    "## 5 - Hyperparameters\n",
    "\n",
    "Hyperparameter constants. It's adjusted and applied on functions."
   ]
  },
  {
   "cell_type": "code",
   "execution_count": 1147,
   "metadata": {},
   "outputs": [],
   "source": [
    "FEATURES = train_images.shape[0]\n",
    "\n",
    "LAYER_UNITS = np.array([32, 32, 16, 10], dtype=np.uint32)\n",
    "LAYER_ACTIVATIONS = np.array([Activation['RELU'], Activation['RELU'], Activation['TANH'], Activation['SIGMOID']])\n",
    "LAYERS = LAYER_UNITS.shape[0]\n",
    "ALPHA = 8.5*10e-5\n",
    "LAMBDA_REG = 10e-5\n",
    "EPOCHS = 20\n",
    "EPSILON = 10e-8\n",
    "MINIBATCH_SIZE = 512\n",
    "LEARNING_DECAY = 0.9\n",
    "BETA_MOMENTUM = 0.9\n",
    "BETA_RMS = 0.999\n",
    "\n",
    "EXAMPLES = train_images.shape[1]"
   ]
  },
  {
   "cell_type": "markdown",
   "metadata": {},
   "source": [
    "## 6 - Activation functions and it's derivatives\n",
    "\n",
    "Linear function, Sigmoid, Tanh, ReLU and Leaky ReLU."
   ]
  },
  {
   "cell_type": "code",
   "execution_count": 1148,
   "metadata": {},
   "outputs": [],
   "source": [
    "LEAKY_RELU_MULTIPLIER = 0.01\n",
    "\n",
    "def linear_func(X_matrix, W_matrix, b_array):\n",
    "    return np.dot(W_matrix, X_matrix) + b_array\n",
    "\n",
    "def sigmoid(z):\n",
    "    return 1/(1 + np.exp(-z))\n",
    "\n",
    "def sigmoid_threshold(z):\n",
    "    return np.round(z)\n",
    "\n",
    "def tanh(z):\n",
    "    return np.tanh(z)\n",
    "\n",
    "def relu(z):\n",
    "    return np.maximum(0, z)\n",
    "\n",
    "def leaky_relu(z):\n",
    "    return np.maximum(LEAKY_RELU_MULTIPLIER * z, z)\n",
    "\n",
    "def derivative_sigmoid(z):\n",
    "    return sigmoid(z) * (1 - sigmoid(z))\n",
    "\n",
    "def derivative_tanh(z):\n",
    "    return 1 - (tanh(z)**2)\n",
    "\n",
    "def derivative_relu(z):\n",
    "    if(z < 0):\n",
    "        return 0\n",
    "    else:\n",
    "        return 1\n",
    "\n",
    "def derivative_leaky_relu(z):\n",
    "    if(z < 0):\n",
    "        return LEAKY_RELU_MULTIPLIER\n",
    "    else:\n",
    "        return 1\n",
    "\n",
    "derivative_relu = np.vectorize(derivative_relu)\n",
    "derivative_leaky_relu = np.vectorize(derivative_leaky_relu)"
   ]
  },
  {
   "cell_type": "markdown",
   "metadata": {},
   "source": [
    "## 7 - Normalization functions\n",
    "\n",
    "For some reason, normalization with mean and standard was buggy, so... I just divided each feature by it's maximum."
   ]
  },
  {
   "cell_type": "code",
   "execution_count": 1149,
   "metadata": {},
   "outputs": [],
   "source": [
    "def normalize_dataset(X_matrix):\n",
    "    X_norm = np.zeros(X_matrix.shape)\n",
    "    for i in range(X_matrix.shape[0]):\n",
    "        X_norm[i] = X_matrix[i]/np.maximum(1, np.max(X_matrix[i]))\n",
    "    return X_norm\n",
    "\n",
    "def normalize_input(x_input, X_matrix):\n",
    "    x_norm = np.zeros(x_input.shape)\n",
    "    x_norm = x_input/np.maximum(1, np.max(X_matrix))\n",
    "    return x_norm"
   ]
  },
  {
   "cell_type": "markdown",
   "metadata": {},
   "source": [
    "## 8 - Forward and Backward Propagation Functions\n",
    "\n",
    "Fwdprop and backprop functions (optimizations are done in fit function)."
   ]
  },
  {
   "cell_type": "code",
   "execution_count": 1150,
   "metadata": {},
   "outputs": [],
   "source": [
    "def fwd_prop(A_previous, W_layer, b_layer, activationType = Activation['SIGMOID']):\n",
    "    Z_layer = linear_func(A_previous, W_layer, b_layer)\n",
    "    if (activationType == Activation['SIGMOID']):\n",
    "        A_layer = sigmoid(Z_layer)\n",
    "    elif (activationType == Activation['TANH']):\n",
    "        A_layer = tanh(Z_layer)\n",
    "    elif (activationType == Activation['RELU']):\n",
    "        A_layer = relu(Z_layer)\n",
    "    elif (activationType == Activation['LEAKY_RELU']):\n",
    "        A_layer = leaky_relu(Z_layer)\n",
    "    else:\n",
    "        A_layer = sigmoid(Z_layer)\n",
    "    return A_layer, Z_layer\n",
    "\n",
    "def back_prop(dA_layer, A_previous, Z_layer, W_layer, b_layer, activationType = Activation['SIGMOID']):\n",
    "    if (activationType == Activation['SIGMOID']):\n",
    "        dZ_layer = np.multiply(dA_layer, derivative_sigmoid(Z_layer))\n",
    "    elif (activationType == Activation['TANH']):\n",
    "        dZ_layer = np.multiply(dA_layer, derivative_tanh(Z_layer))\n",
    "    elif (activationType == Activation['RELU']):\n",
    "        dZ_layer = np.multiply(dA_layer, derivative_relu(Z_layer))\n",
    "    elif (activationType == Activation['LEAKY_RELU']):\n",
    "        dZ_layer = np.multiply(dA_layer, derivative_leaky_relu(Z_layer))\n",
    "    else:\n",
    "        dZ_layer = np.multiply(dA_layer, derivative_sigmoid(Z_layer))\n",
    "    \n",
    "    dW_layer = np.dot(dZ_layer, np.transpose(A_previous))/dZ_layer.shape[1]\n",
    "    db_layer = np.sum(dZ_layer, axis = 1, keepdims = True)/dZ_layer.shape[1]\n",
    "    dA_previous = np.dot(np.transpose(W_layer), dZ_layer)\n",
    "\n",
    "    return dA_previous, dW_layer, db_layer   "
   ]
  },
  {
   "cell_type": "markdown",
   "metadata": {},
   "source": [
    "## 9 - Predict Function\n",
    "\n",
    "Prediction based on calculated weights and biases."
   ]
  },
  {
   "cell_type": "code",
   "execution_count": 1151,
   "metadata": {},
   "outputs": [],
   "source": [
    "def predict(X, W, b,\n",
    "            layers = LAYERS,\n",
    "            layer_activations = LAYER_ACTIVATIONS):\n",
    "    A = X\n",
    "    for i in range(1, layers+1):\n",
    "        A, z = fwd_prop(A, W[i], b[i], layer_activations[i-1])\n",
    "    return A"
   ]
  },
  {
   "cell_type": "markdown",
   "metadata": {},
   "source": [
    "## 10 - Cost function\n",
    "\n",
    "For some reason, $- y \\cdot \\text{log}(y_{prediction}) - (1 - y) \\cdot \\text{log}(1 - y_{prediction})$ didn't work so well, so I used mean squared error instead.\n",
    "\n",
    "This cost function doesn't affect neither the propagation functions, nor the fit function. "
   ]
  },
  {
   "cell_type": "code",
   "execution_count": 1152,
   "metadata": {},
   "outputs": [],
   "source": [
    "def cost(X, y, W, b, lambda_reg = LAMBDA_REG):\n",
    "    y_prediction = predict(X, W, b)\n",
    "    regularization = 0\n",
    "    loss = (1/2)*((y_prediction - y)**2)\n",
    "    for i in W:\n",
    "        regularization += np.sum(i**2)\n",
    "    cost = (np.sum(loss, axis = 1, keepdims=True)/y.shape[1]) + ((lambda_reg/(2*y.shape[1]))*regularization)\n",
    "    return cost"
   ]
  },
  {
   "cell_type": "markdown",
   "metadata": {},
   "source": [
    "## 11 - Fit Function\n",
    "\n",
    "Fit function is implemented with optimization. (I'm using Adam)"
   ]
  },
  {
   "cell_type": "code",
   "execution_count": 1153,
   "metadata": {},
   "outputs": [],
   "source": [
    "def fit(X, y,\n",
    "        W_previous = None,\n",
    "        b_previous = None,\n",
    "        features = FEATURES,\n",
    "        layers = LAYERS,\n",
    "        layer_units = LAYER_UNITS,\n",
    "        layer_activations = LAYER_ACTIVATIONS,\n",
    "        examples = EXAMPLES,\n",
    "        alpha = ALPHA,\n",
    "        learning_decay = LEARNING_DECAY,\n",
    "        lambda_reg = LAMBDA_REG,\n",
    "        epochs = EPOCHS,\n",
    "        epsilon = EPSILON,\n",
    "        mb_size = MINIBATCH_SIZE,\n",
    "        beta_momentum = BETA_MOMENTUM,\n",
    "        beta_rms = BETA_RMS):\n",
    "    \n",
    "    W = {1: np.random.randn(layer_units[0], features) * np.sqrt(2/features)}\n",
    "    dW = {1: np.zeros([layer_units[0], features])}\n",
    "    b = {1:np.random.randn(layer_units[0], 1)}\n",
    "    db = {1: np.zeros([layer_units[0], 1])}\n",
    "    Z = {0: X}\n",
    "    A = {0: X}\n",
    "    dA = {0: np.array([])}\n",
    "    for k in range(layers - 1):\n",
    "        W[k+2] = np.random.randn(layer_units[k+1], layer_units[k]) * np.sqrt(1/layer_units[k])\n",
    "        dW[k+2] = np.zeros([layer_units[k+1], layer_units[k]])\n",
    "        b[k+2] = np.random.randn(layer_units[k+1], 1)\n",
    "        db[k+2] = np.zeros([layer_units[k+1], 1])\n",
    "        Z[k+1] = np.zeros([layer_units[k+1], examples])\n",
    "        A[k+1] = np.zeros([layer_units[k+1], examples])\n",
    "        dA[k+1] = np.zeros([layer_units[k+1], examples])\n",
    "\n",
    "    if(W_previous != None and b_previous != None):\n",
    "        W = W_previous\n",
    "        b = b_previous\n",
    "\n",
    "    alpha_decay = alpha\n",
    "\n",
    "    cost_points = []\n",
    "\n",
    "    for i in range(epochs):\n",
    "\n",
    "        vdW = {}\n",
    "        vdb = {}\n",
    "        sdW = {}\n",
    "        sdb = {}\n",
    "        for v in range(1, layers+1):\n",
    "            vdW[v] = np.zeros(dW[v].shape)\n",
    "            vdb[v] = np.zeros(db[v].shape)\n",
    "            sdW[v] = np.zeros(dW[v].shape)\n",
    "            sdb[v] = np.zeros(db[v].shape)\n",
    "\n",
    "        print(f\"\\rEpoch {i+1} of {epochs}\", end=\"\")\n",
    "\n",
    "        for k in range(int(np.ceil(A[0].shape[1]/mb_size))):\n",
    "\n",
    "            mb_start = k*mb_size\n",
    "            mb_end = np.minimum((k+1)*mb_size, A[0].shape[1])\n",
    "\n",
    "            for j in range(layers):\n",
    "                if(j == 0):\n",
    "                    A[j+1], Z[j+1] = fwd_prop(A[j][:, mb_start:mb_end], W[j+1], b[j+1], layer_activations[j])\n",
    "                else:\n",
    "                    A[j+1], Z[j+1] = fwd_prop(A[j], W[j+1], b[j+1], layer_activations[j])\n",
    "\n",
    "            dA[layers] = - (y[:, mb_start:mb_end]/A[layers]) + ((1-y[:, mb_start:mb_end])/(1-A[layers]))\n",
    "\n",
    "            for j in range(layers-1, -1, -1):\n",
    "                if(j == 0):\n",
    "                    dA[j], dW[j+1], db[j+1] = back_prop(dA[j+1], A[j][:, mb_start:mb_end], Z[j+1], W[j+1], b[j+1], layer_activations[j])\n",
    "                else:\n",
    "                    dA[j], dW[j+1], db[j+1] = back_prop(dA[j+1], A[j], Z[j+1], W[j+1], b[j+1], layer_activations[j])\n",
    "            \n",
    "            for j in range(1, layers+1):\n",
    "                vdW[j] = ((beta_momentum * vdW[j]) + ((1 - beta_momentum) * dW[j]))/(1 + (beta_momentum**(k+1)))\n",
    "                vdb[j] = ((beta_momentum * vdb[j]) + ((1 - beta_momentum) * db[j]))/(1 + (beta_momentum**(k+1)))\n",
    "                sdW[j] = ((beta_rms * sdW[j]) + ((1 - beta_rms) * dW[j]**2))/(1 + (beta_rms**(k+1)))\n",
    "                sdb[j] = ((beta_rms * sdb[j]) + ((1 - beta_rms) * db[j]**2))/(1 + (beta_rms**(k+1)))\n",
    "                W[j] = (W[j] * (1 - ((alpha_decay*lambda_reg)/y.shape[1]))) - (alpha_decay*(vdW[j]/(epsilon + np.sqrt(sdW[j]))))\n",
    "                b[j] = b[j] - (alpha_decay*(vdb[j]/(epsilon + np.sqrt(sdb[j]))))\n",
    "    \n",
    "            cost_points.append(cost(X[:, mb_start:mb_end], y[:, mb_start:mb_end], W, b))\n",
    "        \n",
    "        alpha_decay = alpha*(learning_decay**(i+1))\n",
    "\n",
    "        #print(np.transpose(cost_points[len(cost_points) - 1]))\n",
    "    \n",
    "    print(\"\\r                        \", end=\"\")\n",
    "    print(\"\\rDone.\")\n",
    "\n",
    "    return W, b, cost_points"
   ]
  },
  {
   "cell_type": "markdown",
   "metadata": {},
   "source": [
    "## 12 - Training the N.N.\n",
    "\n",
    "Running fit function"
   ]
  },
  {
   "cell_type": "code",
   "execution_count": 1154,
   "metadata": {},
   "outputs": [
    {
     "name": "stdout",
     "output_type": "stream",
     "text": [
      "Done.                   \n"
     ]
    }
   ],
   "source": [
    "train_images_normalized = normalize_dataset(train_images)\n",
    "W_final, b_final, cost_final = fit(train_images_normalized, train_labels)"
   ]
  },
  {
   "cell_type": "code",
   "execution_count": 1155,
   "metadata": {},
   "outputs": [
    {
     "data": {
      "text/plain": [
       "[<matplotlib.lines.Line2D at 0x1c4002e6d60>]"
      ]
     },
     "execution_count": 1155,
     "metadata": {},
     "output_type": "execute_result"
    },
    {
     "data": {
      "image/png": "[encoded data removed]",
      "text/plain": [
       "<Figure size 432x288 with 1 Axes>"
      ]
     },
     "metadata": {
      "needs_background": "light"
     },
     "output_type": "display_data"
    }
   ],
   "source": [
    "cost_final = np.array(cost_final).reshape(-1, 10)\n",
    "#print(cost_final[:, 0])\n",
    "plt.plot(np.arange(len(cost_final)), cost_final[:, 0])\n"
   ]
  },
  {
   "cell_type": "markdown",
   "metadata": {},
   "source": [
    "## 13 - Saving Checkpoint\n",
    "\n",
    "Here we can save the results of fitting. We can run a new fit not losing previous fit in `W_save` and `b_save`."
   ]
  },
  {
   "cell_type": "code",
   "execution_count": 1156,
   "metadata": {},
   "outputs": [],
   "source": [
    "W_save = W_final\n",
    "b_save = b_final"
   ]
  },
  {
   "cell_type": "markdown",
   "metadata": {},
   "source": [
    "If `ACTIVE_SAVING_CHECKPOINT` == `True`, `W_save` and `b_save` are saved on `.csv` files."
   ]
  },
  {
   "cell_type": "code",
   "execution_count": 1157,
   "metadata": {},
   "outputs": [],
   "source": [
    "ACTIVE_SAVING_CHECKPOINT = False\n",
    "\n",
    "if(ACTIVE_SAVING_CHECKPOINT):\n",
    "    if(not os.path.isdir(\"./training-checkpoint/\")):\n",
    "        os.mkdir(\"./training-checkpoint/\")\n",
    "\n",
    "    for i in W_save:\n",
    "        np.savetxt(f'./training-checkpoint/w{i}.csv', W_save[i], delimiter=',')\n",
    "    for i in b_save:\n",
    "        np.savetxt(f'./training-checkpoint/b{i}.csv', b_save[i], delimiter=',')"
   ]
  },
  {
   "cell_type": "markdown",
   "metadata": {},
   "source": [
    "## 14 - Loading Checkpoint\n",
    "\n",
    "If `ACTIVE_LOADING_CHECKPOINT` == `True`, `W_save` and `b_save` are loaded with `.csv` files content."
   ]
  },
  {
   "cell_type": "code",
   "execution_count": 1158,
   "metadata": {},
   "outputs": [],
   "source": [
    "ACTIVE_LOADING_CHECKPOINT = False\n",
    "\n",
    "if(ACTIVE_LOADING_CHECKPOINT):\n",
    "    W_save = {}\n",
    "    b_save = {}\n",
    "    for i in range(1, LAYERS + 1):\n",
    "        W_save[i] = np.loadtxt(f'./training-checkpoint/w{i}.csv', delimiter=',')\n",
    "        b_save[i] = np.loadtxt(f'./training-checkpoint/b{i}.csv', delimiter=',')\n",
    "        b_save[i] = np.reshape(b_save[i], (b_save[i].shape[0], 1))"
   ]
  },
  {
   "cell_type": "markdown",
   "metadata": {},
   "source": [
    "## 15 - Measuring accuracy on test set"
   ]
  },
  {
   "cell_type": "code",
   "execution_count": 1159,
   "metadata": {},
   "outputs": [
    {
     "name": "stdout",
     "output_type": "stream",
     "text": [
      "Accuracy on test set prediction: 92.65 %\n"
     ]
    }
   ],
   "source": [
    "test_images_normalized = normalize_input(test_images, train_images)\n",
    "test_outputs = np.transpose(sigmoid_threshold(np.transpose(predict(test_images_normalized, W_save, b_save))))\n",
    "test_comparison = np.array([np.array_equal(test_outputs[:, i], test_labels[:, i]) for i in range(test_outputs.shape[1])])\n",
    "test_accuracy = np.sum(test_comparison)*100/test_comparison.shape[0]\n",
    "print(f\"Accuracy on test set prediction: {test_accuracy} %\")"
   ]
  },
  {
   "cell_type": "markdown",
   "metadata": {},
   "source": [
    "## 16 - Measuring accuracy on train set"
   ]
  },
  {
   "cell_type": "code",
   "execution_count": 1160,
   "metadata": {},
   "outputs": [
    {
     "name": "stdout",
     "output_type": "stream",
     "text": [
      "Accuracy on train set prediction: 94.07666666666667 %\n"
     ]
    }
   ],
   "source": [
    "train_images_normalized = normalize_dataset(train_images)\n",
    "train_outputs = np.transpose(sigmoid_threshold(np.transpose(predict(train_images_normalized, W_save, b_save))))\n",
    "train_comparison = np.array([np.array_equal(train_outputs[:, i], train_labels[:, i]) for i in range(train_outputs.shape[1])])\n",
    "train_accuracy = np.sum(train_comparison)*100/train_comparison.shape[0]\n",
    "print(f\"Accuracy on train set prediction: {train_accuracy} %\")"
   ]
  },
  {
   "cell_type": "markdown",
   "metadata": {},
   "source": [
    "## 17 - Test playground"
   ]
  },
  {
   "cell_type": "code",
   "execution_count": 1161,
   "metadata": {},
   "outputs": [
    {
     "name": "stdout",
     "output_type": "stream",
     "text": [
      "Saída esperada: 0\n",
      "Saída predita: 0\n"
     ]
    },
    {
     "data": {
      "image/png": "[encoded data removed]",
      "text/plain": [
       "<Figure size 432x288 with 1 Axes>"
      ]
     },
     "metadata": {
      "needs_background": "light"
     },
     "output_type": "display_data"
    }
   ],
   "source": [
    "index = int(np.round(np.random.rand()*len(test_images_raw)))\n",
    "\n",
    "plt.imshow(test_images_raw[index], cmap='magma')\n",
    "test_sample = normalize_input(test_images[:, index].reshape(test_images[:, index].shape[0], 1), train_images)\n",
    "test_predict = sigmoid_threshold(np.transpose(predict(test_sample, W_save, b_save)))\n",
    "print(f\"Saída esperada: {test_labels_raw[index]}\")\n",
    "for i in range(len(test_predict[0])):\n",
    "    if test_predict[0, i] == 1:\n",
    "        print(f\"Saída predita: {i}\")\n",
    "        break\n",
    "    if(i == 9):\n",
    "        print(f\"Sem predição válida.\")"
   ]
  }
 ],
 "metadata": {
  "kernelspec": {
   "display_name": "Python 3.9.12 ('base')",
   "language": "python",
   "name": "python3"
  },
  "language_info": {
   "codemirror_mode": {
    "name": "ipython",
    "version": 3
   },
   "file_extension": ".py",
   "mimetype": "text/x-python",
   "name": "python",
   "nbconvert_exporter": "python",
   "pygments_lexer": "ipython3",
   "version": "3.9.12"
  },
  "orig_nbformat": 4,
  "vscode": {
   "interpreter": {
    "hash": "427b8541cfc07e6fbe7ab4a5298567b1b3022ff2b70fdb07d029f33f0434686a"
   }
  }
 },
 "nbformat": 4,
 "nbformat_minor": 2
}
