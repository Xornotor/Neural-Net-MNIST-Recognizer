{
 "cells": [
  {
   "cell_type": "markdown",
   "metadata": {},
   "source": [
    "# Neural Network for MNIST database recognizing - **CNN with Tensorflow**\n",
    "\n",
    "This is a Neural Network developed with `Tensorflow`, only for learning purposes. The objective of this project is learn more about Convolutional Neural Networks (CNN's) and how to use them with TensorFlow.\n"
   ]
  },
  {
   "cell_type": "markdown",
   "metadata": {},
   "source": [
    "## 1 - Library Imports"
   ]
  },
  {
   "cell_type": "code",
   "execution_count": 1,
   "metadata": {},
   "outputs": [],
   "source": [
    "import numpy as np\n",
    "import tensorflow as tf\n",
    "from tensorflow.keras import Sequential\n",
    "from tensorflow.keras.layers import Conv2D, AveragePooling2D, MaxPool2D, Flatten, Dense, Reshape, BatchNormalization, Normalization\n",
    "from tensorflow.keras.optimizers import SGD, Adam\n",
    "from tensorflow.keras.losses import MeanSquaredError, SparseCategoricalCrossentropy, BinaryCrossentropy\n",
    "from tensorflow.keras.metrics import SparseCategoricalAccuracy\n",
    "from tensorflow.keras.regularizers import L2\n",
    "\n",
    "import matplotlib.pyplot as plt\n",
    "import os\n",
    "import mnist"
   ]
  },
  {
   "cell_type": "markdown",
   "metadata": {},
   "source": [
    "## 2 - MNIST Datasets download"
   ]
  },
  {
   "cell_type": "code",
   "execution_count": 2,
   "metadata": {},
   "outputs": [],
   "source": [
    "if(not os.path.isdir(\"./datasets/\")):\n",
    "    os.mkdir(\"./datasets\")\n",
    "if(not os.path.isfile(\"./datasets/train-images-idx3-ubyte.gz\")):\n",
    "    mnist.download_file(\"train-images-idx3-ubyte.gz\", \"./datasets\")\n",
    "if(not os.path.isfile(\"./datasets/train-labels-idx1-ubyte.gz\")):\n",
    "    mnist.download_file(\"train-labels-idx1-ubyte.gz\", \"./datasets\")\n",
    "if(not os.path.isfile(\"./datasets/t10k-images-idx3-ubyte.gz\")):\n",
    "    mnist.download_file(\"t10k-images-idx3-ubyte.gz\", \"./datasets\")\n",
    "if(not os.path.isfile(\"./datasets/t10k-labels-idx1-ubyte.gz\")):\n",
    "    mnist.download_file(\"t10k-labels-idx1-ubyte.gz\", \"./datasets\")"
   ]
  },
  {
   "cell_type": "markdown",
   "metadata": {},
   "source": [
    "## 3 - MNIST Datasets Load"
   ]
  },
  {
   "cell_type": "code",
   "execution_count": 3,
   "metadata": {},
   "outputs": [],
   "source": [
    "train_images = mnist.train_images()\n",
    "train_labels = mnist.train_labels()\n",
    "test_images = mnist.test_images()\n",
    "test_labels = mnist.test_labels()"
   ]
  },
  {
   "cell_type": "markdown",
   "metadata": {},
   "source": [
    "## 4 - Neural Network Model"
   ]
  },
  {
   "cell_type": "code",
   "execution_count": 4,
   "metadata": {},
   "outputs": [
    {
     "name": "stdout",
     "output_type": "stream",
     "text": [
      "Model: \"sequential\"\n",
      "_________________________________________________________________\n",
      "Layer (type)                 Output Shape              Param #   \n",
      "=================================================================\n",
      "normalization (Normalization (None, 28, 28)            57        \n",
      "_________________________________________________________________\n",
      "reshape (Reshape)            (None, 28, 28, 1)         0         \n",
      "_________________________________________________________________\n",
      "conv2d (Conv2D)              (None, 28, 28, 4)         104       \n",
      "_________________________________________________________________\n",
      "batch_normalization (BatchNo (None, 28, 28, 4)         16        \n",
      "_________________________________________________________________\n",
      "conv2d_1 (Conv2D)            (None, 28, 28, 8)         808       \n",
      "_________________________________________________________________\n",
      "average_pooling2d (AveragePo (None, 14, 14, 8)         0         \n",
      "_________________________________________________________________\n",
      "batch_normalization_1 (Batch (None, 14, 14, 8)         32        \n",
      "_________________________________________________________________\n",
      "conv2d_2 (Conv2D)            (None, 12, 12, 12)        876       \n",
      "_________________________________________________________________\n",
      "batch_normalization_2 (Batch (None, 12, 12, 12)        48        \n",
      "_________________________________________________________________\n",
      "conv2d_3 (Conv2D)            (None, 4, 4, 24)          7224      \n",
      "_________________________________________________________________\n",
      "batch_normalization_3 (Batch (None, 4, 4, 24)          96        \n",
      "_________________________________________________________________\n",
      "conv2d_4 (Conv2D)            (None, 2, 2, 48)          10416     \n",
      "_________________________________________________________________\n",
      "average_pooling2d_1 (Average (None, 1, 1, 48)          0         \n",
      "_________________________________________________________________\n",
      "batch_normalization_4 (Batch (None, 1, 1, 48)          192       \n",
      "_________________________________________________________________\n",
      "flatten (Flatten)            (None, 48)                0         \n",
      "_________________________________________________________________\n",
      "dense (Dense)                (None, 64)                3136      \n",
      "_________________________________________________________________\n",
      "batch_normalization_5 (Batch (None, 64)                256       \n",
      "_________________________________________________________________\n",
      "dense_1 (Dense)              (None, 32)                2080      \n",
      "_________________________________________________________________\n",
      "batch_normalization_6 (Batch (None, 32)                128       \n",
      "_________________________________________________________________\n",
      "dense_2 (Dense)              (None, 16)                528       \n",
      "_________________________________________________________________\n",
      "batch_normalization_7 (Batch (None, 16)                64        \n",
      "_________________________________________________________________\n",
      "dense_3 (Dense)              (None, 10)                170       \n",
      "=================================================================\n",
      "Total params: 26,231\n",
      "Trainable params: 25,758\n",
      "Non-trainable params: 473\n",
      "_________________________________________________________________\n"
     ]
    }
   ],
   "source": [
    "EPOCHS = 15\n",
    "MINIBATCH_SIZE = 512\n",
    "REGULARIZATION = 1e-4\n",
    "\n",
    "model = Sequential([\n",
    "    tf.keras.Input(shape=(28, 28)),\n",
    "    Normalization(),\n",
    "    Reshape((28, 28, 1), input_shape=(28, 28)),\n",
    "    Conv2D(4, 5, padding='same', activation='relu', kernel_regularizer=L2(REGULARIZATION)),\n",
    "    BatchNormalization(),\n",
    "    Conv2D(8, 5, padding='same', activation='relu', kernel_regularizer=L2(REGULARIZATION)),\n",
    "    AveragePooling2D(),\n",
    "    BatchNormalization(),\n",
    "    Conv2D(12, 3, activation='relu', kernel_regularizer=L2(REGULARIZATION)),\n",
    "    BatchNormalization(),\n",
    "    Conv2D(24, 5, strides=(2,2), activation='relu', kernel_regularizer=L2(REGULARIZATION)),\n",
    "    BatchNormalization(),\n",
    "    Conv2D(48, 3, activation='relu', kernel_regularizer=L2(REGULARIZATION)),\n",
    "    AveragePooling2D(),\n",
    "    BatchNormalization(),\n",
    "    Flatten(),\n",
    "    Dense(64, activation='relu', kernel_regularizer=L2(REGULARIZATION)),\n",
    "    BatchNormalization(),\n",
    "    Dense(32, activation='relu', kernel_regularizer=L2(REGULARIZATION)),\n",
    "    BatchNormalization(),\n",
    "    Dense(16, activation='relu', kernel_regularizer=L2(REGULARIZATION)),\n",
    "    BatchNormalization(),\n",
    "    Dense(10, activation='softmax')\n",
    "])\n",
    "model.summary()"
   ]
  },
  {
   "cell_type": "markdown",
   "metadata": {},
   "source": [
    "## 5 - Neural Network Training"
   ]
  },
  {
   "cell_type": "code",
   "execution_count": 5,
   "metadata": {},
   "outputs": [
    {
     "name": "stdout",
     "output_type": "stream",
     "text": [
      "Epoch 1/15\n",
      "118/118 [==============================] - 20s 161ms/step - loss: 0.7022 - sparse_categorical_accuracy: 0.8360\n",
      "Epoch 2/15\n",
      "118/118 [==============================] - 19s 165ms/step - loss: 0.1621 - sparse_categorical_accuracy: 0.9722\n",
      "Epoch 3/15\n",
      "118/118 [==============================] - 20s 171ms/step - loss: 0.0990 - sparse_categorical_accuracy: 0.9829\n",
      "Epoch 4/15\n",
      "118/118 [==============================] - 19s 158ms/step - loss: 0.0729 - sparse_categorical_accuracy: 0.9875\n",
      "Epoch 5/15\n",
      "118/118 [==============================] - 19s 161ms/step - loss: 0.0593 - sparse_categorical_accuracy: 0.9901\n",
      "Epoch 6/15\n",
      "118/118 [==============================] - 19s 162ms/step - loss: 0.0524 - sparse_categorical_accuracy: 0.9916\n",
      "Epoch 7/15\n",
      "118/118 [==============================] - 19s 164ms/step - loss: 0.0448 - sparse_categorical_accuracy: 0.9932\n",
      "Epoch 8/15\n",
      "118/118 [==============================] - 20s 171ms/step - loss: 0.0401 - sparse_categorical_accuracy: 0.9941\n",
      "Epoch 9/15\n",
      "118/118 [==============================] - 19s 158ms/step - loss: 0.0357 - sparse_categorical_accuracy: 0.9953\n",
      "Epoch 10/15\n",
      "118/118 [==============================] - 19s 163ms/step - loss: 0.0337 - sparse_categorical_accuracy: 0.9956\n",
      "Epoch 11/15\n",
      "118/118 [==============================] - 20s 172ms/step - loss: 0.0309 - sparse_categorical_accuracy: 0.9966\n",
      "Epoch 12/15\n",
      "118/118 [==============================] - 19s 161ms/step - loss: 0.0292 - sparse_categorical_accuracy: 0.9968\n",
      "Epoch 13/15\n",
      "118/118 [==============================] - 19s 161ms/step - loss: 0.0286 - sparse_categorical_accuracy: 0.9968\n",
      "Epoch 14/15\n",
      "118/118 [==============================] - 20s 170ms/step - loss: 0.0301 - sparse_categorical_accuracy: 0.9959\n",
      "Epoch 15/15\n",
      "118/118 [==============================] - 19s 164ms/step - loss: 0.0306 - sparse_categorical_accuracy: 0.9958\n"
     ]
    },
    {
     "data": {
      "text/plain": [
       "<keras.callbacks.History at 0x2420c6d90d0>"
      ]
     },
     "execution_count": 5,
     "metadata": {},
     "output_type": "execute_result"
    }
   ],
   "source": [
    "model.compile(\n",
    "            optimizer=Adam(learning_rate=1e-3),\n",
    "            loss=SparseCategoricalCrossentropy(),\n",
    "            metrics=[SparseCategoricalAccuracy()]\n",
    ")\n",
    "\n",
    "model.fit(train_images, train_labels, batch_size=MINIBATCH_SIZE, epochs=EPOCHS)"
   ]
  },
  {
   "cell_type": "markdown",
   "metadata": {},
   "source": [
    "## 6 - Measuring accuracy on test set"
   ]
  },
  {
   "cell_type": "code",
   "execution_count": 6,
   "metadata": {},
   "outputs": [
    {
     "name": "stdout",
     "output_type": "stream",
     "text": [
      "Accuracy on test set prediction: 99.16 %\n"
     ]
    }
   ],
   "source": [
    "test_softmax = model.predict(test_images)\n",
    "test_outputs = np.array([np.argmax(outp) for outp in test_softmax])\n",
    "test_comparison = np.array([np.array_equal((test_outputs[i]), test_labels[i]) for i in range(test_outputs.shape[0])])\n",
    "test_accuracy = np.sum(test_comparison)*100/test_comparison.shape[0]\n",
    "print(f\"Accuracy on test set prediction: {test_accuracy} %\")"
   ]
  },
  {
   "cell_type": "markdown",
   "metadata": {},
   "source": [
    "## 7 - Measuring accuracy on train set"
   ]
  },
  {
   "cell_type": "code",
   "execution_count": 7,
   "metadata": {},
   "outputs": [
    {
     "name": "stdout",
     "output_type": "stream",
     "text": [
      "Accuracy on train set prediction: 100.0 %\n"
     ]
    }
   ],
   "source": [
    "train_softmax = model.predict(train_images)\n",
    "train_outputs = np.array([np.argmax(outp) for outp in train_softmax])\n",
    "train_comparison = np.array([np.array_equal(np.argmax(train_outputs[i]), np.argmax(train_labels[i])) for i in range(train_outputs.shape[0])])\n",
    "train_accuracy = np.sum(train_comparison)*100/train_comparison.shape[0]\n",
    "print(f\"Accuracy on train set prediction: {train_accuracy} %\")"
   ]
  },
  {
   "cell_type": "markdown",
   "metadata": {},
   "source": [
    "## 8 - Test playground"
   ]
  },
  {
   "cell_type": "code",
   "execution_count": 38,
   "metadata": {},
   "outputs": [
    {
     "data": {
      "image/png": "[encoded data removed]",
      "text/plain": [
       "<Figure size 864x576 with 24 Axes>"
      ]
     },
     "metadata": {},
     "output_type": "display_data"
    }
   ],
   "source": [
    "SUB_PLOT_X = 4\n",
    "SUB_PLOT_Y = 6\n",
    "\n",
    "index = [int(np.round(np.random.rand()*len(test_images))) for i in range(SUB_PLOT_X * SUB_PLOT_Y)]\n",
    "\n",
    "fig, axs = plt.subplots(SUB_PLOT_X, SUB_PLOT_Y, figsize=(2*SUB_PLOT_Y, 2*SUB_PLOT_X))\n",
    "fig.suptitle('Labels: Predito, Esperado', fontsize=20, color=\"white\")\n",
    "fig.set_facecolor('black')\n",
    "for i in range(SUB_PLOT_X):\n",
    "    for j in range(SUB_PLOT_Y):\n",
    "        test_predict = model.predict(test_images[index[i*SUB_PLOT_X + j]].reshape(1, 28, 28))\n",
    "        axs[i, j].imshow(test_images[index[i*SUB_PLOT_X + j]], cmap='magma')\n",
    "        axs[i, j].axis('off')\n",
    "        axs[i, j].set_title(f'{test_labels[index[i*SUB_PLOT_X + j]]}, {np.argmax(test_predict)}', fontsize=14, color=\"white\")"
   ]
  }
 ],
 "metadata": {
  "kernelspec": {
   "display_name": "Python 3.9.12 ('tf')",
   "language": "python",
   "name": "python3"
  },
  "language_info": {
   "codemirror_mode": {
    "name": "ipython",
    "version": 3
   },
   "file_extension": ".py",
   "mimetype": "text/x-python",
   "name": "python",
   "nbconvert_exporter": "python",
   "pygments_lexer": "ipython3",
   "version": "3.9.12"
  },
  "orig_nbformat": 4,
  "vscode": {
   "interpreter": {
    "hash": "f991c695cbe6bd249169076a2e49f33c1de0c132a47ff6cf4960f196934008a1"
   }
  }
 },
 "nbformat": 4,
 "nbformat_minor": 2
}
