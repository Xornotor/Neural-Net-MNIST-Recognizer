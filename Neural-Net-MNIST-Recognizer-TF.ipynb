{
 "cells": [
  {
   "cell_type": "markdown",
   "metadata": {},
   "source": [
    "# Neural Network for MNIST database recognizing - **Tensorflow**\n",
    "\n",
    "This is a Neural Network developed with `Tensorflow`, only for learning purposes. The objective of this project is practice Neural Networks Design principles and enhance knowledges on Machine Learning and Deep Learning.\n"
   ]
  },
  {
   "cell_type": "markdown",
   "metadata": {},
   "source": [
    "## 1 - Library Imports"
   ]
  },
  {
   "cell_type": "code",
   "execution_count": 1,
   "metadata": {},
   "outputs": [],
   "source": [
    "import numpy as np\n",
    "import tensorflow as tf\n",
    "from tensorflow.keras import Sequential\n",
    "from tensorflow.keras.layers import Dense\n",
    "from tensorflow.keras.optimizers import SGD, Adam\n",
    "from tensorflow.keras.losses import MeanSquaredError, SparseCategoricalCrossentropy, BinaryCrossentropy\n",
    "\n",
    "import matplotlib.pyplot as plt\n",
    "import os\n",
    "import mnist"
   ]
  },
  {
   "cell_type": "markdown",
   "metadata": {},
   "source": [
    "## 2 - MNIST Datasets download"
   ]
  },
  {
   "cell_type": "code",
   "execution_count": 2,
   "metadata": {},
   "outputs": [],
   "source": [
    "if(not os.path.isdir(\"./datasets/\")):\n",
    "    os.mkdir(\"./datasets\")\n",
    "if(not os.path.isfile(\"./datasets/train-images-idx3-ubyte.gz\")):\n",
    "    mnist.download_file(\"train-images-idx3-ubyte.gz\", \"./datasets\")\n",
    "if(not os.path.isfile(\"./datasets/train-labels-idx1-ubyte.gz\")):\n",
    "    mnist.download_file(\"train-labels-idx1-ubyte.gz\", \"./datasets\")\n",
    "if(not os.path.isfile(\"./datasets/t10k-images-idx3-ubyte.gz\")):\n",
    "    mnist.download_file(\"t10k-images-idx3-ubyte.gz\", \"./datasets\")\n",
    "if(not os.path.isfile(\"./datasets/t10k-labels-idx1-ubyte.gz\")):\n",
    "    mnist.download_file(\"t10k-labels-idx1-ubyte.gz\", \"./datasets\")"
   ]
  },
  {
   "cell_type": "markdown",
   "metadata": {},
   "source": [
    "## 3 - MNIST Datasets Load"
   ]
  },
  {
   "cell_type": "code",
   "execution_count": 3,
   "metadata": {},
   "outputs": [],
   "source": [
    "train_images_raw = mnist.train_images()\n",
    "train_labels = mnist.train_labels()\n",
    "test_images_raw = mnist.test_images()\n",
    "test_labels = mnist.test_labels()\n",
    "\n",
    "train_images = train_images_raw.reshape(train_images_raw.shape[0], train_images_raw.shape[1]*train_images_raw.shape[2])\n",
    "\n",
    "test_images = test_images_raw.reshape(test_images_raw.shape[0], test_images_raw.shape[1]*test_images_raw.shape[2])"
   ]
  },
  {
   "cell_type": "markdown",
   "metadata": {},
   "source": [
    "## 4 - Neural Network Model and Training"
   ]
  },
  {
   "cell_type": "code",
   "execution_count": 4,
   "metadata": {},
   "outputs": [
    {
     "name": "stdout",
     "output_type": "stream",
     "text": [
      "Model: \"sequential\"\n",
      "_________________________________________________________________\n",
      "Layer (type)                 Output Shape              Param #   \n",
      "=================================================================\n",
      "dense (Dense)                (None, 32)                25120     \n",
      "_________________________________________________________________\n",
      "dense_1 (Dense)              (None, 16)                528       \n",
      "_________________________________________________________________\n",
      "dense_2 (Dense)              (None, 10)                170       \n",
      "=================================================================\n",
      "Total params: 25,818\n",
      "Trainable params: 25,818\n",
      "Non-trainable params: 0\n",
      "_________________________________________________________________\n",
      "Epoch 1/40\n",
      "235/235 [==============================] - 1s 3ms/step - loss: 4.0249\n",
      "Epoch 2/40\n",
      "235/235 [==============================] - 1s 3ms/step - loss: 1.5656\n",
      "Epoch 3/40\n",
      "235/235 [==============================] - 1s 2ms/step - loss: 1.1528\n",
      "Epoch 4/40\n",
      "235/235 [==============================] - 1s 3ms/step - loss: 0.9399\n",
      "Epoch 5/40\n",
      "235/235 [==============================] - 1s 3ms/step - loss: 0.8061\n",
      "Epoch 6/40\n",
      "235/235 [==============================] - 1s 3ms/step - loss: 0.6705\n",
      "Epoch 7/40\n",
      "235/235 [==============================] - 1s 3ms/step - loss: 0.5910\n",
      "Epoch 8/40\n",
      "235/235 [==============================] - 1s 3ms/step - loss: 0.5277\n",
      "Epoch 9/40\n",
      "235/235 [==============================] - 1s 3ms/step - loss: 0.4874\n",
      "Epoch 10/40\n",
      "235/235 [==============================] - 1s 3ms/step - loss: 0.4422\n",
      "Epoch 11/40\n",
      "235/235 [==============================] - 1s 2ms/step - loss: 0.4078\n",
      "Epoch 12/40\n",
      "235/235 [==============================] - 1s 2ms/step - loss: 0.3785\n",
      "Epoch 13/40\n",
      "235/235 [==============================] - 1s 3ms/step - loss: 0.3453\n",
      "Epoch 14/40\n",
      "235/235 [==============================] - 1s 3ms/step - loss: 0.3235\n",
      "Epoch 15/40\n",
      "235/235 [==============================] - 1s 3ms/step - loss: 0.2985\n",
      "Epoch 16/40\n",
      "235/235 [==============================] - 1s 3ms/step - loss: 0.2820\n",
      "Epoch 17/40\n",
      "235/235 [==============================] - 1s 3ms/step - loss: 0.2693\n",
      "Epoch 18/40\n",
      "235/235 [==============================] - 1s 3ms/step - loss: 0.2547\n",
      "Epoch 19/40\n",
      "235/235 [==============================] - 1s 3ms/step - loss: 0.2396\n",
      "Epoch 20/40\n",
      "235/235 [==============================] - 1s 3ms/step - loss: 0.2282\n",
      "Epoch 21/40\n",
      "235/235 [==============================] - 1s 2ms/step - loss: 0.2187\n",
      "Epoch 22/40\n",
      "235/235 [==============================] - 1s 3ms/step - loss: 0.2071\n",
      "Epoch 23/40\n",
      "235/235 [==============================] - 0s 2ms/step - loss: 0.1960\n",
      "Epoch 24/40\n",
      "235/235 [==============================] - 1s 2ms/step - loss: 0.1876\n",
      "Epoch 25/40\n",
      "235/235 [==============================] - 1s 3ms/step - loss: 0.1852\n",
      "Epoch 26/40\n",
      "235/235 [==============================] - 1s 3ms/step - loss: 0.1742\n",
      "Epoch 27/40\n",
      "235/235 [==============================] - 1s 3ms/step - loss: 0.1731\n",
      "Epoch 28/40\n",
      "235/235 [==============================] - 1s 3ms/step - loss: 0.1659\n",
      "Epoch 29/40\n",
      "235/235 [==============================] - 1s 3ms/step - loss: 0.1549\n",
      "Epoch 30/40\n",
      "235/235 [==============================] - 0s 2ms/step - loss: 0.1501\n",
      "Epoch 31/40\n",
      "235/235 [==============================] - 1s 3ms/step - loss: 0.1461\n",
      "Epoch 32/40\n",
      "235/235 [==============================] - 1s 3ms/step - loss: 0.1382\n",
      "Epoch 33/40\n",
      "235/235 [==============================] - 1s 2ms/step - loss: 0.1354\n",
      "Epoch 34/40\n",
      "235/235 [==============================] - 1s 3ms/step - loss: 0.1319\n",
      "Epoch 35/40\n",
      "235/235 [==============================] - 1s 2ms/step - loss: 0.1265\n",
      "Epoch 36/40\n",
      "235/235 [==============================] - 1s 2ms/step - loss: 0.1248\n",
      "Epoch 37/40\n",
      "235/235 [==============================] - 1s 2ms/step - loss: 0.1165\n",
      "Epoch 38/40\n",
      "235/235 [==============================] - 1s 3ms/step - loss: 0.1144\n",
      "Epoch 39/40\n",
      "235/235 [==============================] - 0s 2ms/step - loss: 0.1097\n",
      "Epoch 40/40\n",
      "235/235 [==============================] - 0s 2ms/step - loss: 0.1069\n"
     ]
    },
    {
     "data": {
      "text/plain": [
       "<keras.callbacks.History at 0x229718affa0>"
      ]
     },
     "execution_count": 4,
     "metadata": {},
     "output_type": "execute_result"
    }
   ],
   "source": [
    "LAYER_UNITS = np.array([32, 16, 10], dtype=np.uint32)\n",
    "LAYER_ACTIVATIONS = np.array(['relu', 'relu', 'linear'])\n",
    "EPOCHS = 40\n",
    "MINIBATCH_SIZE = 256\n",
    "\n",
    "layers = [Dense(units = LAYER_UNITS[j], activation=LAYER_ACTIVATIONS[j]) for j in range(LAYER_UNITS.shape[0])]\n",
    "layers.insert(0, tf.keras.Input(shape=(784, )))\n",
    "model = Sequential(layers)\n",
    "model.summary()\n",
    "\n",
    "model.compile(optimizer=Adam(learning_rate=1e-3), loss=SparseCategoricalCrossentropy(from_logits=True))\n",
    "\n",
    "model.fit(train_images, train_labels, batch_size=MINIBATCH_SIZE, epochs=EPOCHS)"
   ]
  },
  {
   "cell_type": "markdown",
   "metadata": {},
   "source": [
    "## 5 - Measuring accuracy on test set"
   ]
  },
  {
   "cell_type": "code",
   "execution_count": 5,
   "metadata": {},
   "outputs": [
    {
     "name": "stdout",
     "output_type": "stream",
     "text": [
      "Accuracy on test set prediction: 95.32 %\n"
     ]
    }
   ],
   "source": [
    "test_softmax = model.predict(test_images)\n",
    "test_outputs = np.array([np.argmax(outp) for outp in test_softmax])\n",
    "test_comparison = np.array([np.array_equal((test_outputs[i]), test_labels[i]) for i in range(test_outputs.shape[0])])\n",
    "test_accuracy = np.sum(test_comparison)*100/test_comparison.shape[0]\n",
    "print(f\"Accuracy on test set prediction: {test_accuracy} %\")"
   ]
  },
  {
   "cell_type": "markdown",
   "metadata": {},
   "source": [
    "## 6 - Measuring accuracy on train set"
   ]
  },
  {
   "cell_type": "code",
   "execution_count": 6,
   "metadata": {},
   "outputs": [
    {
     "name": "stdout",
     "output_type": "stream",
     "text": [
      "Accuracy on train set prediction: 100.0 %\n"
     ]
    }
   ],
   "source": [
    "train_softmax = model.predict(train_images)\n",
    "train_outputs = np.array([np.argmax(outp) for outp in train_softmax])\n",
    "train_comparison = np.array([np.array_equal(np.argmax(train_outputs[i]), np.argmax(train_labels[i])) for i in range(train_outputs.shape[0])])\n",
    "train_accuracy = np.sum(train_comparison)*100/train_comparison.shape[0]\n",
    "print(f\"Accuracy on train set prediction: {train_accuracy} %\")"
   ]
  },
  {
   "cell_type": "markdown",
   "metadata": {},
   "source": [
    "## 7 - Test playground"
   ]
  },
  {
   "cell_type": "code",
   "execution_count": 13,
   "metadata": {},
   "outputs": [
    {
     "name": "stdout",
     "output_type": "stream",
     "text": [
      "Saída esperada: 7\n",
      "Saída predita: 7\n"
     ]
    },
    {
     "data": {
      "image/png": "[encoded data removed]",
      "text/plain": [
       "<Figure size 432x288 with 1 Axes>"
      ]
     },
     "metadata": {
      "needs_background": "light"
     },
     "output_type": "display_data"
    }
   ],
   "source": [
    "index = int(np.round(np.random.rand()*len(test_images)))\n",
    "\n",
    "plt.imshow(test_images_raw[index], cmap='magma')\n",
    "print(f\"Saída esperada: {test_labels[index]}\")\n",
    "test_predict = model.predict(test_images[index].reshape(1, 784))\n",
    "print(f\"Saída predita: {np.argmax(test_predict)}\")"
   ]
  }
 ],
 "metadata": {
  "kernelspec": {
   "display_name": "Python 3.9.12 ('tf')",
   "language": "python",
   "name": "python3"
  },
  "language_info": {
   "codemirror_mode": {
    "name": "ipython",
    "version": 3
   },
   "file_extension": ".py",
   "mimetype": "text/x-python",
   "name": "python",
   "nbconvert_exporter": "python",
   "pygments_lexer": "ipython3",
   "version": "3.9.12"
  },
  "orig_nbformat": 4,
  "vscode": {
   "interpreter": {
    "hash": "f991c695cbe6bd249169076a2e49f33c1de0c132a47ff6cf4960f196934008a1"
   }
  }
 },
 "nbformat": 4,
 "nbformat_minor": 2
}
